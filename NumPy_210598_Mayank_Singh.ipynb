{
  "cells": [
    {
      "cell_type": "markdown",
      "metadata": {
        "id": "view-in-github",
        "colab_type": "text"
      },
      "source": [
        "<a href=\"https://colab.research.google.com/github/Mayank2225/Machine-Learning-Application-for-Mechanical-Engineering/blob/main/NumPy_210598_Mayank_Singh.ipynb\" target=\"_parent\"><img src=\"https://colab.research.google.com/assets/colab-badge.svg\" alt=\"Open In Colab\"/></a>"
      ]
    },
    {
      "cell_type": "markdown",
      "metadata": {
        "id": "FgXaHXB2ACsz"
      },
      "source": [
        "# NumPy Practice\n",
        "\n",
        "This notebook offers a set of exercises for different tasks with NumPy.\n",
        "\n",
        "It should be noted there may be more than one different way to answer a question or complete an exercise.\n",
        "\n",
        "Exercises are based off (and directly taken from) the quick introduction to NumPy notebook.\n",
        "\n",
        "Different tasks will be detailed by comments or text.\n",
        "\n",
        "For further reference and resources, it's advised to check out the [NumPy documentation](https://numpy.org/devdocs/user/index.html).\n",
        "\n",
        "And if you get stuck, try searching for a question in the following format: \"how to do XYZ with numpy\", where XYZ is the function you want to leverage from NumPy."
      ]
    },
    {
      "cell_type": "code",
      "execution_count": null,
      "metadata": {
        "id": "XsOXKIEaACs5"
      },
      "outputs": [],
      "source": [
        "# Import NumPy as its abbreviation 'np'\n",
        "import numpy as np"
      ]
    },
    {
      "cell_type": "code",
      "execution_count": null,
      "metadata": {
        "id": "GMk1F0dpACs7"
      },
      "outputs": [],
      "source": [
        "# Create a 1-dimensional NumPy array using np.array()\n",
        "oned=np.array([1,2,3])\n",
        "\n",
        "# Create a 2-dimensional NumPy array using np.array()\n",
        "twod=np.array([[1,2,3],[4,5,6]])\n",
        "\n",
        "# Create a 3-dimensional Numpy array using np.array()\n",
        "threed=np.array([[[1,2,3],[4,5,6]],[[7,8,9],[10,11,12]]])"
      ]
    },
    {
      "cell_type": "markdown",
      "metadata": {
        "id": "7p8hJRNbACs8"
      },
      "source": [
        "Now we've you've created 3 different arrays, let's find details about them.\n",
        "\n",
        "Find the shape, number of dimensions, data type, size and type of each array."
      ]
    },
    {
      "cell_type": "code",
      "execution_count": null,
      "metadata": {
        "id": "GBn9X0nBACs9",
        "colab": {
          "base_uri": "https://localhost:8080/"
        },
        "outputId": "66cd3cf6-7159-4a21-b1f2-9706e3a47497"
      },
      "outputs": [
        {
          "output_type": "stream",
          "name": "stdout",
          "text": [
            "1\n",
            "int64\n",
            "<class 'numpy.ndarray'>\n"
          ]
        }
      ],
      "source": [
        "# Attributes of 1-dimensional array (shape,\n",
        "# number of dimensions, data type, size and type)\n",
        "print(oned.ndim)\n",
        "print(oned.dtype)\n",
        "print(type(oned))\n"
      ]
    },
    {
      "cell_type": "code",
      "execution_count": null,
      "metadata": {
        "id": "90KOlEP8ACs9",
        "colab": {
          "base_uri": "https://localhost:8080/"
        },
        "outputId": "c5895824-5569-406d-b5c0-150eaa101d20"
      },
      "outputs": [
        {
          "output_type": "stream",
          "name": "stdout",
          "text": [
            "2\n",
            "int64\n",
            "<class 'numpy.ndarray'>\n"
          ]
        }
      ],
      "source": [
        "# Attributes of 2-dimensional array\n",
        "print(twod.ndim)\n",
        "print(twod.dtype)\n",
        "print(type(twod))"
      ]
    },
    {
      "cell_type": "code",
      "execution_count": null,
      "metadata": {
        "id": "J5r4gLtHACs-",
        "colab": {
          "base_uri": "https://localhost:8080/"
        },
        "outputId": "1b966c4d-349f-4c3b-f618-264c3e58e283"
      },
      "outputs": [
        {
          "output_type": "stream",
          "name": "stdout",
          "text": [
            "3\n",
            "int64\n",
            "<class 'numpy.ndarray'>\n"
          ]
        }
      ],
      "source": [
        "# Attributes of 3-dimensional array\n",
        "print(threed.ndim)\n",
        "print(threed.dtype)\n",
        "print(type(threed))"
      ]
    },
    {
      "cell_type": "code",
      "execution_count": null,
      "metadata": {
        "id": "yllB33ZJACs-",
        "colab": {
          "base_uri": "https://localhost:8080/"
        },
        "outputId": "444f8e3f-955f-4c36-9b39-588cf2c0774a"
      },
      "outputs": [
        {
          "output_type": "stream",
          "name": "stdout",
          "text": [
            "   0  1  2\n",
            "0  1  2  3\n",
            "1  4  5  6\n"
          ]
        }
      ],
      "source": [
        "# Import pandas and create a DataFrame out of one\n",
        "# of the arrays you've created\n",
        "import pandas as pd\n",
        "twod=np.array([[1,2,3],[4,5,6]])\n",
        "df= pd.DataFrame(twod)\n",
        "print(df)\n",
        "\n"
      ]
    },
    {
      "cell_type": "code",
      "execution_count": null,
      "metadata": {
        "id": "7nA_mF0KACs_"
      },
      "outputs": [],
      "source": [
        "# Create an array of shape (10, 2) with only ones\n",
        "arr1=np.array([[1,1],[1,1],[1,1],[1,1],[1,1],[1,1],[1,1],[1,1],[1,1],[1,1]])"
      ]
    },
    {
      "cell_type": "code",
      "execution_count": null,
      "metadata": {
        "id": "PXmSuiXIACtA"
      },
      "outputs": [],
      "source": [
        "# Create an array of shape (7, 2, 3) of only zeros\n",
        "arr2=np.array([[[0,0,0],[0,0,0]],[[0,0,0],[0,0,0]],[[0,0,0],[0,0,0]],[[0,0,0],[0,0,0]],[[0,0,0],[0,0,0]],[[0,0,0],[0,0,0]],[[0,0,0],[0,0,0]]])"
      ]
    },
    {
      "cell_type": "code",
      "execution_count": null,
      "metadata": {
        "id": "1USNlEqDACtA",
        "colab": {
          "base_uri": "https://localhost:8080/"
        },
        "outputId": "3b6e634f-7cae-4aa5-bf8a-529bd49b53ea"
      },
      "outputs": [
        {
          "output_type": "stream",
          "name": "stdout",
          "text": [
            "[ 0  3  6  9 12 15 18 21 24 27 30 33 36 39 42 45 48 51 54 57 60 63 66 69\n",
            " 72 75 78 81 84 87 90 93 96 99]\n"
          ]
        }
      ],
      "source": [
        "# Create an array within a range of 0 and 100 with step 3\n",
        "print(np.arange(0,100,3))"
      ]
    },
    {
      "cell_type": "code",
      "execution_count": null,
      "metadata": {
        "id": "Gy_sxEtmACtA"
      },
      "outputs": [],
      "source": [
        "# Create a random array with numbers between 0 and 10 of size (7, 2)\n",
        "from numpy import random\n",
        "a=random.randint(10,size=(7,2))"
      ]
    },
    {
      "cell_type": "code",
      "execution_count": null,
      "metadata": {
        "id": "HgFVWiS4ACtB"
      },
      "outputs": [],
      "source": [
        "# Create a random array of floats between 0 & 1 of shape (3, 5)\n",
        "b=random.rand(3,5)"
      ]
    },
    {
      "cell_type": "code",
      "execution_count": null,
      "metadata": {
        "id": "mwdh0jtcACtB"
      },
      "outputs": [],
      "source": [
        "# Set the random seed to 42\n",
        "random.seed(42)\n",
        "\n",
        "# Create a random array of numbers between 0 & 10 of size (4, 6)\n",
        "c=random.randint(10,size=(4,6))"
      ]
    },
    {
      "cell_type": "markdown",
      "metadata": {
        "id": "yqcDjgWvACtB"
      },
      "source": [
        "Run the cell above again, what happens?\n",
        "\n",
        "Are the numbers in the array different or the same? Why do think this is?"
      ]
    },
    {
      "cell_type": "markdown",
      "source": [
        "the numbera are same because we set the the seed value."
      ],
      "metadata": {
        "id": "Tt4krLkR-LSJ"
      }
    },
    {
      "cell_type": "code",
      "execution_count": null,
      "metadata": {
        "id": "Id3zn6IIACtC"
      },
      "outputs": [],
      "source": [
        "# Create an array of random numbers between 1 & 10 of size (3, 7)\n",
        "# and save it to a variable\n",
        "bt=random.randint(1,10, size=(3,7))\n",
        "\n",
        "# Find the unique numbers in the array you just created"
      ]
    },
    {
      "cell_type": "code",
      "execution_count": null,
      "metadata": {
        "id": "Jr0MGF5WACtC",
        "colab": {
          "base_uri": "https://localhost:8080/"
        },
        "outputId": "1051211e-d228-4ad8-dbf5-66837f1ef34e"
      },
      "outputs": [
        {
          "output_type": "stream",
          "name": "stdout",
          "text": [
            "9\n"
          ]
        }
      ],
      "source": [
        "# Find the 0'th index of the latest array you created\n",
        "print(bt[0,0])"
      ]
    },
    {
      "cell_type": "code",
      "execution_count": null,
      "metadata": {
        "id": "J3iS3fiyACtC",
        "colab": {
          "base_uri": "https://localhost:8080/"
        },
        "outputId": "701bbd4a-b384-4f1a-e55c-6a02be4d18ad"
      },
      "outputs": [
        {
          "output_type": "stream",
          "name": "stdout",
          "text": [
            "[[9 1 3 7 4 9 3]\n",
            " [5 3 7 5 9 7 2]]\n"
          ]
        }
      ],
      "source": [
        "# Get the first 2 rows of latest array you created\n",
        "print(bt[0:2,0:7])"
      ]
    },
    {
      "cell_type": "code",
      "execution_count": null,
      "metadata": {
        "id": "zUKkExTrACtC",
        "colab": {
          "base_uri": "https://localhost:8080/"
        },
        "outputId": "e68f16ec-01ad-4b48-9439-ff1bfb8caaf2"
      },
      "outputs": [
        {
          "output_type": "stream",
          "name": "stdout",
          "text": [
            "[[9 1]\n",
            " [5 3]]\n"
          ]
        }
      ],
      "source": [
        "# Get the first 2 values of the first 2 rows of the latest array\n",
        "print(bt[0:2,0:2])"
      ]
    },
    {
      "cell_type": "code",
      "execution_count": null,
      "metadata": {
        "id": "tedh9e9nACtD"
      },
      "outputs": [],
      "source": [
        "# Create a random array of numbers between 0 & 10 and an array of ones\n",
        "# both of size (3, 5), save them both to variables\n",
        "n=random.randint(10, size=(3,5))\n",
        "b=np.array([[0,0,0,0,0],[0,0,0,0,0],[0,0,0,0,0]])"
      ]
    },
    {
      "cell_type": "code",
      "execution_count": null,
      "metadata": {
        "id": "Bui1Tmo3ACtD"
      },
      "outputs": [],
      "source": [
        "# Add the two arrays together\n",
        "k=np.add(n,b)"
      ]
    },
    {
      "cell_type": "code",
      "execution_count": null,
      "metadata": {
        "id": "CtzeqRwEACtD"
      },
      "outputs": [],
      "source": [
        "# Create another array of ones of shape (5, 3)\n",
        "t=np.array([[1,1,1],[1,1,1],[1,1,1],[1,1,1],[1,1,1]])"
      ]
    },
    {
      "cell_type": "code",
      "execution_count": null,
      "metadata": {
        "id": "uzl0f5fUACtD",
        "colab": {
          "base_uri": "https://localhost:8080/",
          "height": 182
        },
        "outputId": "298c6567-0651-49ea-b98a-6ffec167e789"
      },
      "outputs": [
        {
          "output_type": "error",
          "ename": "ValueError",
          "evalue": "ignored",
          "traceback": [
            "\u001b[0;31m---------------------------------------------------------------------------\u001b[0m",
            "\u001b[0;31mValueError\u001b[0m                                Traceback (most recent call last)",
            "\u001b[0;32m<ipython-input-20-ee27e6555d2c>\u001b[0m in \u001b[0;36m<module>\u001b[0;34m\u001b[0m\n\u001b[1;32m      1\u001b[0m \u001b[0;31m# Try add the array of ones and the other most recent array together\u001b[0m\u001b[0;34m\u001b[0m\u001b[0;34m\u001b[0m\u001b[0;34m\u001b[0m\u001b[0m\n\u001b[0;32m----> 2\u001b[0;31m \u001b[0mprint\u001b[0m\u001b[0;34m(\u001b[0m\u001b[0mnp\u001b[0m\u001b[0;34m.\u001b[0m\u001b[0madd\u001b[0m\u001b[0;34m(\u001b[0m\u001b[0mk\u001b[0m\u001b[0;34m,\u001b[0m\u001b[0mt\u001b[0m\u001b[0;34m)\u001b[0m\u001b[0;34m)\u001b[0m\u001b[0;34m\u001b[0m\u001b[0;34m\u001b[0m\u001b[0m\n\u001b[0m",
            "\u001b[0;31mValueError\u001b[0m: operands could not be broadcast together with shapes (3,5) (5,3) "
          ]
        }
      ],
      "source": [
        "# Try add the array of ones and the other most recent array together\n",
        "print(np.add(k,t))"
      ]
    },
    {
      "cell_type": "markdown",
      "metadata": {
        "id": "9ZogUP2XACtE"
      },
      "source": [
        "When you try the last cell, it produces an error. Why do think this is?\n",
        "\n",
        "How would you fix it?"
      ]
    },
    {
      "cell_type": "code",
      "execution_count": null,
      "metadata": {
        "id": "7XCnsBzPACtE"
      },
      "outputs": [],
      "source": [
        "# Create another array of ones of shape (3, 5)\n",
        "f=np.array([[1,1,1,1,1],[1,1,1,1,1],[1,1,1,1,1]])"
      ]
    },
    {
      "cell_type": "code",
      "execution_count": null,
      "metadata": {
        "id": "WCdBN0QQACtE",
        "colab": {
          "base_uri": "https://localhost:8080/"
        },
        "outputId": "7e929138-2f4a-45a2-c2f1-89efbaf352bf"
      },
      "outputs": [
        {
          "output_type": "stream",
          "name": "stdout",
          "text": [
            "[[-5 -6 -1  1 -2]\n",
            " [ 0 -6 -2  0 -4]\n",
            " [-4 -8 -2 -4  0]]\n"
          ]
        }
      ],
      "source": [
        "# Subtract the new array of ones from the other most recent array\n",
        "s=np.subtract(f,k)\n",
        "print(s)"
      ]
    },
    {
      "cell_type": "code",
      "execution_count": null,
      "metadata": {
        "id": "IuYgO27AACtE",
        "colab": {
          "base_uri": "https://localhost:8080/"
        },
        "outputId": "a2a1ef46-8b83-40a4-f0ff-93db3543263a"
      },
      "outputs": [
        {
          "output_type": "stream",
          "name": "stdout",
          "text": [
            "[[-5 -6 -1  1 -2]\n",
            " [ 0 -6 -2  0 -4]\n",
            " [-4 -8 -2 -4  0]]\n"
          ]
        }
      ],
      "source": [
        "# Multiply the ones array with the latest array\n",
        "m=np.multiply(f,s)\n",
        "print(m)"
      ]
    },
    {
      "cell_type": "code",
      "execution_count": null,
      "metadata": {
        "id": "Cu05xcCOACtF",
        "colab": {
          "base_uri": "https://localhost:8080/"
        },
        "outputId": "60b1f3ba-8407-42d4-a427-743eb5f67df4"
      },
      "outputs": [
        {
          "output_type": "stream",
          "name": "stdout",
          "text": [
            "[[25 36  1  1  4]\n",
            " [ 0 36  4  0 16]\n",
            " [16 64  4 16  0]]\n"
          ]
        }
      ],
      "source": [
        "# Take the latest array to the power of 2 using '**'\n",
        "z=m**2\n",
        "print(z)"
      ]
    },
    {
      "cell_type": "code",
      "execution_count": null,
      "metadata": {
        "id": "yiTwmy25ACtF",
        "colab": {
          "base_uri": "https://localhost:8080/"
        },
        "outputId": "53a6bc26-c534-4bf1-f541-3d38ea965c75"
      },
      "outputs": [
        {
          "output_type": "stream",
          "name": "stdout",
          "text": [
            "[[25 36  1  1  4]\n",
            " [ 0 36  4  0 16]\n",
            " [16 64  4 16  0]]\n"
          ]
        }
      ],
      "source": [
        "# Do the same thing with np.square()\n",
        "print(np.square(m))\n"
      ]
    },
    {
      "cell_type": "code",
      "execution_count": null,
      "metadata": {
        "id": "RI42VHzUACtG",
        "colab": {
          "base_uri": "https://localhost:8080/"
        },
        "outputId": "535649a1-3643-4677-b8bf-0095f12e344c"
      },
      "outputs": [
        {
          "output_type": "stream",
          "name": "stdout",
          "text": [
            "14.866666666666667\n"
          ]
        }
      ],
      "source": [
        "# Find the mean of the latest array using np.mean()\n",
        "print(np.mean(z))"
      ]
    },
    {
      "cell_type": "code",
      "execution_count": null,
      "metadata": {
        "id": "BG-fHiP-ACtG",
        "colab": {
          "base_uri": "https://localhost:8080/"
        },
        "outputId": "320d5531-2293-4937-d31e-c38a2cb8e6f2"
      },
      "outputs": [
        {
          "output_type": "stream",
          "name": "stdout",
          "text": [
            "64\n"
          ]
        }
      ],
      "source": [
        "# Find the maximum of the latest array using np.max()\n",
        "print(np.max(z))"
      ]
    },
    {
      "cell_type": "code",
      "execution_count": null,
      "metadata": {
        "id": "p6e4gkFeACtG",
        "colab": {
          "base_uri": "https://localhost:8080/"
        },
        "outputId": "c8895954-eda1-4abb-90f1-f433e8f2d1d0"
      },
      "outputs": [
        {
          "output_type": "stream",
          "name": "stdout",
          "text": [
            "0\n"
          ]
        }
      ],
      "source": [
        "# Find the minimum of the latest array using np.min()\n",
        "print(np.min(z))"
      ]
    },
    {
      "cell_type": "code",
      "execution_count": null,
      "metadata": {
        "id": "4fenCCh3ACtI",
        "colab": {
          "base_uri": "https://localhost:8080/"
        },
        "outputId": "5730ba6d-2e54-4ede-a921-54b613bbbb50"
      },
      "outputs": [
        {
          "output_type": "stream",
          "name": "stdout",
          "text": [
            "17.917837171067518\n"
          ]
        }
      ],
      "source": [
        "# Find the standard deviation of the latest array\n",
        "print(np.std(z))"
      ]
    },
    {
      "cell_type": "code",
      "execution_count": null,
      "metadata": {
        "id": "bbWu9_6sACtI",
        "colab": {
          "base_uri": "https://localhost:8080/"
        },
        "outputId": "92bfbf03-a24b-4568-deda-bd9071b6eb76"
      },
      "outputs": [
        {
          "output_type": "stream",
          "name": "stdout",
          "text": [
            "321.0488888888889\n"
          ]
        }
      ],
      "source": [
        "# Find the variance of the latest array\n",
        "print(np.var(z))"
      ]
    },
    {
      "cell_type": "code",
      "execution_count": null,
      "metadata": {
        "id": "bW_BoHz-ACtJ"
      },
      "outputs": [],
      "source": [
        "# Reshape the latest array to (3, 5, 1)\n",
        "newz=z.reshape(3,5,1)"
      ]
    },
    {
      "cell_type": "code",
      "execution_count": null,
      "metadata": {
        "id": "vsaDmfWDACtK",
        "colab": {
          "base_uri": "https://localhost:8080/"
        },
        "outputId": "44ea12aa-8e69-43cc-9a28-65370a81c2a6"
      },
      "outputs": [
        {
          "output_type": "stream",
          "name": "stdout",
          "text": [
            "<built-in method transpose of numpy.ndarray object at 0x7efbe5fd12d0>\n"
          ]
        }
      ],
      "source": [
        "# Transpose the latest array\n",
        "print(newz.transpose)"
      ]
    },
    {
      "cell_type": "markdown",
      "metadata": {
        "id": "IhWJ4WS1ACtK"
      },
      "source": [
        "What does the transpose do?"
      ]
    },
    {
      "cell_type": "code",
      "execution_count": null,
      "metadata": {
        "id": "hKVUkk4dACtL"
      },
      "outputs": [],
      "source": [
        "# Create two arrays of random integers between 0 to 10\n",
        "# one of size (3, 3) the other of size (3, 2)\n",
        "a1=random.randint(10, size=(3,3))\n",
        "a2=random.randint(10, size=(3,2))"
      ]
    },
    {
      "cell_type": "code",
      "execution_count": null,
      "metadata": {
        "id": "YBgckmJnACtL",
        "colab": {
          "base_uri": "https://localhost:8080/"
        },
        "outputId": "0d279410-69ec-44c1-a0f7-02ef0ee3ac52"
      },
      "outputs": [
        {
          "output_type": "stream",
          "name": "stdout",
          "text": [
            "[[ 88 117]\n",
            " [100 123]\n",
            " [ 89 127]]\n"
          ]
        }
      ],
      "source": [
        "# Perform a dot product on the two newest arrays you created\n",
        "print(np.dot(a1,a2))"
      ]
    },
    {
      "cell_type": "code",
      "execution_count": null,
      "metadata": {
        "id": "6Q_LzNzdACtL"
      },
      "outputs": [],
      "source": [
        "# Create two arrays of random integers between 0 to 10\n",
        "# both of size (4, 3)\n",
        "a3=random.randint(10, size=(4,3))\n",
        "a4=random.randint(10, size=(4,3))"
      ]
    },
    {
      "cell_type": "code",
      "execution_count": null,
      "metadata": {
        "id": "E6SI3FJfACtL",
        "colab": {
          "base_uri": "https://localhost:8080/",
          "height": 217
        },
        "outputId": "e5ee2451-dfb5-4337-8ba4-25c4887a8d19"
      },
      "outputs": [
        {
          "output_type": "error",
          "ename": "ValueError",
          "evalue": "ignored",
          "traceback": [
            "\u001b[0;31m---------------------------------------------------------------------------\u001b[0m",
            "\u001b[0;31mValueError\u001b[0m                                Traceback (most recent call last)",
            "\u001b[0;32m<ipython-input-36-0d6732edae28>\u001b[0m in \u001b[0;36m<module>\u001b[0;34m\u001b[0m\n\u001b[1;32m      1\u001b[0m \u001b[0;31m# Perform a dot product on the two newest arrays you created\u001b[0m\u001b[0;34m\u001b[0m\u001b[0;34m\u001b[0m\u001b[0;34m\u001b[0m\u001b[0m\n\u001b[0;32m----> 2\u001b[0;31m \u001b[0mprint\u001b[0m\u001b[0;34m(\u001b[0m\u001b[0mnp\u001b[0m\u001b[0;34m.\u001b[0m\u001b[0mdot\u001b[0m\u001b[0;34m(\u001b[0m\u001b[0ma3\u001b[0m\u001b[0;34m,\u001b[0m\u001b[0ma4\u001b[0m\u001b[0;34m)\u001b[0m\u001b[0;34m)\u001b[0m\u001b[0;34m\u001b[0m\u001b[0;34m\u001b[0m\u001b[0m\n\u001b[0m",
            "\u001b[0;32m<__array_function__ internals>\u001b[0m in \u001b[0;36mdot\u001b[0;34m(*args, **kwargs)\u001b[0m\n",
            "\u001b[0;31mValueError\u001b[0m: shapes (4,3) and (4,3) not aligned: 3 (dim 1) != 4 (dim 0)"
          ]
        }
      ],
      "source": [
        "# Perform a dot product on the two newest arrays you created\n",
        "print(np.dot(a3,a4))"
      ]
    },
    {
      "cell_type": "markdown",
      "metadata": {
        "id": "JotqSwEaACtL"
      },
      "source": [
        "It doesn't work. How would you fix it?"
      ]
    },
    {
      "cell_type": "markdown",
      "source": [
        "we take transpose of any one of the array"
      ],
      "metadata": {
        "id": "-LKcCWFa4lOs"
      }
    },
    {
      "cell_type": "code",
      "execution_count": null,
      "metadata": {
        "id": "9TBCUke8ACtL",
        "colab": {
          "base_uri": "https://localhost:8080/"
        },
        "outputId": "1c519d84-8ec9-401c-d633-0634c766094c"
      },
      "outputs": [
        {
          "output_type": "stream",
          "name": "stdout",
          "text": [
            "[[128  90 128]\n",
            " [184  91 151]\n",
            " [ 42  14  40]]\n"
          ]
        }
      ],
      "source": [
        "# Take the latest two arrays, perform a transpose on one of them and then perform\n",
        "# a dot product on them both\n",
        "newa3=a3.transpose()\n",
        "print(np.dot(newa3,a4))"
      ]
    },
    {
      "cell_type": "code",
      "execution_count": null,
      "metadata": {
        "id": "m_xKyt56ACtM"
      },
      "outputs": [],
      "source": [
        "# Create two arrays of random integers between 0 & 10 of the same shape\n",
        "# and save them to variables\n",
        "a5=random.randint(10, size=(4,3))\n",
        "a6=random.randint(10, size=(4,3))"
      ]
    },
    {
      "cell_type": "code",
      "execution_count": null,
      "metadata": {
        "id": "6X26tgYwACtM",
        "colab": {
          "base_uri": "https://localhost:8080/"
        },
        "outputId": "0673a309-975a-45bb-866d-478e939fb0de"
      },
      "outputs": [
        {
          "output_type": "stream",
          "name": "stdout",
          "text": [
            "[[ True  True False]\n",
            " [False False False]\n",
            " [False False False]\n",
            " [False  True False]]\n"
          ]
        }
      ],
      "source": [
        "# Compare the two arrays with '>'\n",
        "print(a5>a6)"
      ]
    },
    {
      "cell_type": "markdown",
      "metadata": {
        "id": "9rcNmAusACtM"
      },
      "source": [
        "What happens when you compare the arrays with `>`?"
      ]
    },
    {
      "cell_type": "markdown",
      "source": [
        "it gives a 2-D array with values true and false for the given command"
      ],
      "metadata": {
        "id": "5x1aAN0f4Z1e"
      }
    },
    {
      "cell_type": "code",
      "execution_count": null,
      "metadata": {
        "id": "sCqARkcMACtM",
        "colab": {
          "base_uri": "https://localhost:8080/"
        },
        "outputId": "db77506b-6885-4d65-ffa3-22bbb040e8d5"
      },
      "outputs": [
        {
          "output_type": "stream",
          "name": "stdout",
          "text": [
            "[[ True  True False]\n",
            " [False False False]\n",
            " [False False False]\n",
            " [False  True False]]\n"
          ]
        }
      ],
      "source": [
        "# Compare the two arrays with '>='\n",
        "print(a5>=a6)"
      ]
    },
    {
      "cell_type": "code",
      "execution_count": null,
      "metadata": {
        "id": "GVjs5U_5ACtM",
        "colab": {
          "base_uri": "https://localhost:8080/"
        },
        "outputId": "173b45bd-2dc9-4738-d037-a5ef4b1703ec"
      },
      "outputs": [
        {
          "output_type": "stream",
          "name": "stdout",
          "text": [
            "(array([], dtype=int64), array([], dtype=int64))\n"
          ]
        }
      ],
      "source": [
        "# Find which elements of the first array are greater than 7\n",
        "x1=np.where(a5>7)\n",
        "print(x1)"
      ]
    },
    {
      "cell_type": "code",
      "execution_count": null,
      "metadata": {
        "id": "CFVYeteGACtM",
        "colab": {
          "base_uri": "https://localhost:8080/"
        },
        "outputId": "2d615015-bf35-456d-a786-2a7a1bbf60b3"
      },
      "outputs": [
        {
          "output_type": "stream",
          "name": "stdout",
          "text": [
            "(array([], dtype=int64), array([], dtype=int64))\n"
          ]
        }
      ],
      "source": [
        "# Which parts of each array are equal? (try using '==')\n",
        "x2=np.where(a5==a6)\n",
        "print(x2)"
      ]
    },
    {
      "cell_type": "code",
      "execution_count": null,
      "metadata": {
        "id": "20IrUaKFACtM",
        "colab": {
          "base_uri": "https://localhost:8080/"
        },
        "outputId": "788db8d5-f980-41c8-937b-5c5ecca27c5f"
      },
      "outputs": [
        {
          "output_type": "stream",
          "name": "stdout",
          "text": [
            "[[6 6 7]\n",
            " [2 4 7]\n",
            " [0 2 5]\n",
            " [2 2 4]]\n"
          ]
        }
      ],
      "source": [
        "# Sort one of the arrays you just created in ascending order\n",
        "a51=np.sort(a5)\n",
        "print(a51)"
      ]
    },
    {
      "cell_type": "code",
      "execution_count": null,
      "metadata": {
        "id": "XFpFJXMtACtN"
      },
      "outputs": [],
      "source": [
        "# Sort the indexes of one of the arrays you just created\n"
      ]
    },
    {
      "cell_type": "code",
      "execution_count": null,
      "metadata": {
        "id": "RwEMZqkKACtN",
        "colab": {
          "base_uri": "https://localhost:8080/"
        },
        "outputId": "b48628e0-66de-4edf-8a72-19573aaaebd6"
      },
      "outputs": [
        {
          "output_type": "stream",
          "name": "stdout",
          "text": [
            "(array([0, 1]), array([2, 2]))\n"
          ]
        }
      ],
      "source": [
        "# Find the index with the maximum value in one of the arrays you've created\n",
        "y1=np.max(a51)\n",
        "y2=np.where(a51==y1)\n",
        "print(y2)"
      ]
    },
    {
      "cell_type": "code",
      "execution_count": null,
      "metadata": {
        "id": "9mX9S_SYACtN",
        "colab": {
          "base_uri": "https://localhost:8080/"
        },
        "outputId": "b93a1a9c-0daa-4f36-9e9b-6c5a5c69b7b3"
      },
      "outputs": [
        {
          "output_type": "stream",
          "name": "stdout",
          "text": [
            "(array([2]), array([0]))\n"
          ]
        }
      ],
      "source": [
        "# Find the index with the minimum value in one of the arrays you've created\n",
        "y3=np.min(a51)\n",
        "y4=np.where(a51==y3)\n",
        "print(y4)"
      ]
    },
    {
      "cell_type": "code",
      "execution_count": null,
      "metadata": {
        "id": "UjBoiMfpACtN",
        "colab": {
          "base_uri": "https://localhost:8080/"
        },
        "outputId": "5dd3cc5e-90fb-4bf3-9f94-413ad30f89cc"
      },
      "outputs": [
        {
          "output_type": "stream",
          "name": "stdout",
          "text": [
            "[2 2 0 1]\n"
          ]
        }
      ],
      "source": [
        "# Find the indexes with the maximum values down the 1st axis (axis=1)\n",
        "# of one of the arrays you created\n",
        "print(np.argmax(a5,axis=1))"
      ]
    },
    {
      "cell_type": "code",
      "execution_count": null,
      "metadata": {
        "id": "efRmG1aSACtN",
        "colab": {
          "base_uri": "https://localhost:8080/"
        },
        "outputId": "08977ebe-b6e8-4636-9f1b-0f871f231718"
      },
      "outputs": [
        {
          "output_type": "stream",
          "name": "stdout",
          "text": [
            "[0 0 0]\n"
          ]
        }
      ],
      "source": [
        "# Find the indexes with the minimum values across the 0th axis (axis=0)\n",
        "# of one of the arrays you created\n",
        "print(np.argmax(a5,axis=0))"
      ]
    },
    {
      "cell_type": "code",
      "execution_count": null,
      "metadata": {
        "id": "Y4nTKUMCACtN"
      },
      "outputs": [],
      "source": [
        "# Create an array of normally distributed random numbers\n",
        "a7=random.normal(size=10)"
      ]
    },
    {
      "cell_type": "code",
      "execution_count": null,
      "metadata": {
        "id": "KXi5FyCKACtN",
        "colab": {
          "base_uri": "https://localhost:8080/"
        },
        "outputId": "84531013-9edf-42ee-8b57-5a3111672601"
      },
      "outputs": [
        {
          "output_type": "stream",
          "name": "stdout",
          "text": [
            "[ 1 11 21 31 41 51 61 71 81 91]\n"
          ]
        }
      ],
      "source": [
        "# Create an array with 10 evenly spaced numbers between 1 and 100\n",
        "a8=np.arange(1,100,10)\n",
        "print(a8)"
      ]
    },
    {
      "cell_type": "markdown",
      "metadata": {
        "id": "_D1fowA_ACtO"
      },
      "source": [
        "## Extensions\n",
        "\n",
        "For more exercises, check out the [NumPy quickstart tutorial](https://numpy.org/doc/stable/user/quickstart.html). A good practice would be to read through it and for the parts you find interesting, add them into the end of this notebook.\n",
        "\n",
        "Pay particular attention to the section on broadcasting. And most importantly, get hands-on with the code as much as possible. If in dobut, run the code, see what it does.\n",
        "\n",
        "The next place you could go is the [Stack Overflow page for the top questions and answers for NumPy](https://stackoverflow.com/questions/tagged/numpy?sort=MostVotes&edited=true). Often, you'll find some of the most common and useful NumPy functions here. Don't forget to play around with the filters! You'll likely find something helpful here.\n",
        "\n",
        "Finally, as always, remember, the best way to learn something new is to try it. And try it relentlessly. If you get interested in some kind of NumPy function, asking yourself, \"I wonder if NumPy could do that?\", go and find out."
      ]
    }
  ],
  "metadata": {
    "kernelspec": {
      "display_name": "Python 3",
      "language": "python",
      "name": "python3"
    },
    "language_info": {
      "codemirror_mode": {
        "name": "ipython",
        "version": 3
      },
      "file_extension": ".py",
      "mimetype": "text/x-python",
      "name": "python",
      "nbconvert_exporter": "python",
      "pygments_lexer": "ipython3",
      "version": "3.8.3"
    },
    "colab": {
      "provenance": [],
      "include_colab_link": true
    }
  },
  "nbformat": 4,
  "nbformat_minor": 0
}